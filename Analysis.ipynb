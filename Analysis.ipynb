{
 "cells": [
  {
   "cell_type": "code",
   "execution_count": 125,
   "metadata": {},
   "outputs": [],
   "source": [
    "import pandas as pd\n",
    "import numpy as np\n",
    "from sklearn.preprocessing import OneHotEncoder\n",
    "from sklearn.linear_model import LinearRegression\n",
    "from xgboost import XGBRegressor\n",
    "import xgboost as xgb\n",
    "from sklearn.metrics import mean_absolute_error"
   ]
  },
  {
   "cell_type": "code",
   "execution_count": 126,
   "metadata": {},
   "outputs": [],
   "source": [
    "df = pd.read_csv(\"full2.csv\")\n",
    "year = pd.read_csv(\"2018.csv\")"
   ]
  },
  {
   "cell_type": "code",
   "execution_count": 127,
   "metadata": {},
   "outputs": [],
   "source": [
    "power_5 = [\"Big Ten\", \"ACC\", \"SEC\", \"Pac-10\", \"Big 12\", \"Pac-12\", \"WAC\"]\n",
    "group_5 = [\"CUSA\", \"MAC\", \"MWC\", \"American\", \"Sun Belt\"]\n",
    "fcs = [\"Big East\", \"Unknown\", \"Ind\", \"MVC\"]\n",
    "df.loc[df.Conference.isin(power_5), \"Conference\"] = \"Power 5\"\n",
    "df.loc[df.Conference.isin(group_5), \"Conference\"] = \"Group 5\"\n",
    "df.loc[df.Conference.isin(fcs), \"Conference\"] = \"FCS\""
   ]
  },
  {
   "cell_type": "code",
   "execution_count": 128,
   "metadata": {},
   "outputs": [],
   "source": [
    "df = df.drop([\"College\", \"Name\", \"Pick\"], axis=1)"
   ]
  },
  {
   "cell_type": "code",
   "execution_count": 129,
   "metadata": {},
   "outputs": [],
   "source": [
    "df = pd.get_dummies(df)"
   ]
  },
  {
   "cell_type": "code",
   "execution_count": 130,
   "metadata": {},
   "outputs": [],
   "source": [
    "train = df[df.Year != 2018]\n",
    "test = df[df.Year == 2018]"
   ]
  },
  {
   "cell_type": "code",
   "execution_count": 131,
   "metadata": {},
   "outputs": [],
   "source": [
    "test = test.drop(\"Year\", axis=1)\n",
    "train = train.drop(\"Year\", axis=1)"
   ]
  },
  {
   "cell_type": "code",
   "execution_count": 132,
   "metadata": {},
   "outputs": [],
   "source": [
    "train_X = train.drop(\"Round\", axis=1)\n",
    "test_X = test.drop(\"Round\", axis=1)\n",
    "train_y = train.Round\n",
    "train = xgb.DMatrix(train_X, label=train_y)\n",
    "test = xgb.DMatrix(test_X, label=test_y)"
   ]
  },
  {
   "cell_type": "code",
   "execution_count": 133,
   "metadata": {},
   "outputs": [],
   "source": [
    "#model = XGBRegressor()\n",
    "model = LinearRegression()"
   ]
  },
  {
   "cell_type": "code",
   "execution_count": 134,
   "metadata": {},
   "outputs": [
    {
     "data": {
      "text/plain": [
       "LinearRegression(copy_X=True, fit_intercept=True, n_jobs=1, normalize=False)"
      ]
     },
     "execution_count": 134,
     "metadata": {},
     "output_type": "execute_result"
    }
   ],
   "source": [
    "model.fit(train_X, train_y)"
   ]
  },
  {
   "cell_type": "code",
   "execution_count": 135,
   "metadata": {
    "scrolled": false
   },
   "outputs": [],
   "source": [
    "ranks = np.argsort(list(model.predict(test_X))) + 1"
   ]
  },
  {
   "cell_type": "code",
   "execution_count": 138,
   "metadata": {},
   "outputs": [
    {
     "data": {
      "text/plain": [
       "array([132,  19, 195,  20, 262,  95, 151,  77,  49, 255, 209,   1, 240,\n",
       "        90,  50, 156,  88, 241,  76, 175,  65, 135,  10, 207, 163,   8,\n",
       "         5, 129, 220,  62,  47, 198,  78, 210, 103, 154, 136, 159,  16,\n",
       "       124,  40, 178, 230, 176,  68, 282,  97, 100, 123,  84, 203,  69,\n",
       "       260, 173, 166, 181,  66, 200, 118,  11, 110, 171, 105, 223, 244,\n",
       "       246,  35, 130,  70, 275, 183,  79, 226, 126, 199, 269, 184, 236,\n",
       "       194,  21,  28, 190,  44, 141, 218,   2,   3, 174, 116,  41, 119,\n",
       "       111, 167, 264,  64, 169, 145,  93, 182, 150,  39, 109, 142, 285,\n",
       "       205, 160, 215, 271, 239,  17, 234, 193,  53, 152, 186,  33,  80,\n",
       "       261,  13, 187, 263, 221, 242,  36, 212, 158, 107, 214, 128, 180,\n",
       "       231, 252, 249, 228, 157, 120, 238, 106,  34, 192, 248,  54, 155,\n",
       "        58, 125, 138, 258, 277,  15, 201,  89, 131, 114, 219,  25, 101,\n",
       "        86, 204, 253, 161, 137,  81, 146, 202,  30,  56, 188, 143, 273,\n",
       "       225,  96,  18, 245, 280,  37, 227, 272,  83,  57,  91,  99, 189,\n",
       "       112,  63, 247, 139,  87, 144, 149,  52,  24, 134, 122,  45,  43,\n",
       "       170,  75, 165, 243,  12,  29, 216,  67, 121, 104, 217,  60, 133,\n",
       "       179, 284,  61, 270, 115,  51, 268, 197,  82, 211, 237,   7, 147,\n",
       "       172,   9,  85, 259, 283, 208, 185, 278, 250, 196, 162, 265, 206,\n",
       "        48, 257, 229, 254, 191,  71,  94, 222,   6, 274, 164, 127,  38,\n",
       "       117,  27, 148, 113, 256, 276, 233,  55,  22,  98, 266, 102,  72,\n",
       "        46,  74,  42, 168,  32, 153,  23, 267, 235, 108,  59,  14, 279,\n",
       "       232,  31,  26, 281, 140,  73, 251, 224, 213, 177,  92,   4], dtype=int64)"
      ]
     },
     "execution_count": 138,
     "metadata": {},
     "output_type": "execute_result"
    }
   ],
   "source": [
    "ranks"
   ]
  },
  {
   "cell_type": "code",
   "execution_count": 139,
   "metadata": {},
   "outputs": [],
   "source": [
    "params = {'colsample_bytree': 0.7,\n",
    " 'eta': 0.05,\n",
    " 'eval_metric': 'mae',\n",
    " 'max_depth': 6,\n",
    " 'min_child_weight': 15,\n",
    " 'objective': 'reg:linear',\n",
    " 'subsample': 0.7}"
   ]
  },
  {
   "cell_type": "code",
   "execution_count": 146,
   "metadata": {},
   "outputs": [],
   "source": [
    "num_boost_round = 999\n",
    "model = xgb.train(\n",
    "    params,\n",
    "    train,\n",
    "    num_boost_round=num_boost_round,\n",
    "    #evals=[(test, \"Test\")],\n",
    "    #early_stopping_rounds=10\n",
    ")"
   ]
  },
  {
   "cell_type": "code",
   "execution_count": 141,
   "metadata": {},
   "outputs": [],
   "source": [
    "pred1 = model.predict(test)"
   ]
  },
  {
   "cell_type": "code",
   "execution_count": 142,
   "metadata": {},
   "outputs": [
    {
     "data": {
      "text/plain": [
       "LinearRegression(copy_X=True, fit_intercept=True, n_jobs=1, normalize=False)"
      ]
     },
     "execution_count": 142,
     "metadata": {},
     "output_type": "execute_result"
    }
   ],
   "source": [
    "lm = LinearRegression()\n",
    "lm.fit(train_X, train_y)"
   ]
  },
  {
   "cell_type": "code",
   "execution_count": 143,
   "metadata": {},
   "outputs": [],
   "source": [
    "pred2 = lm.predict(test_X)"
   ]
  },
  {
   "cell_type": "code",
   "execution_count": 155,
   "metadata": {},
   "outputs": [],
   "source": [
    "pred3 = 0.6 * pred1 + 0.4 * pred2"
   ]
  },
  {
   "cell_type": "code",
   "execution_count": 156,
   "metadata": {},
   "outputs": [
    {
     "data": {
      "text/plain": [
       "array([ 19, 132,  77, 118, 176, 178, 199, 255, 154, 175,  49,  47, 241,\n",
       "       187, 207, 210,   8, 136,  65, 129, 135, 160, 240, 262, 230, 195,\n",
       "        50,  10, 156, 159, 244,  79, 119,   5,  76, 171, 158, 215, 276,\n",
       "       145,  62, 173, 101, 123,  88, 209, 181, 126, 260, 220,  78, 282,\n",
       "         1, 151, 214,  40, 163,  68, 167,  28, 226, 141, 228, 194,  66,\n",
       "       157, 208,  95,  84,  69, 103,  15,  80, 205, 231,  70,  90, 124,\n",
       "       203,  11, 223,  44, 285, 225, 130,  61, 271, 185, 109,   2,  45,\n",
       "       169,  52, 166,  20,  36,  17, 100, 105, 200, 110,  41,   9, 183,\n",
       "       263, 128, 192,  34,   3, 146, 150, 184, 170,  37, 152,  86,  35,\n",
       "        16,  13,  39, 174, 248, 111, 182,  97,  93, 186, 236, 277, 140,\n",
       "        54,  67, 221, 261, 275, 239, 243, 116, 155, 246, 206,  89, 143,\n",
       "       138, 180, 247, 164,  58, 218, 259, 131,  63,  99,  94, 104, 216,\n",
       "       142,  25,  33,  53,  30,  21, 273, 249, 253, 264,  75,  56, 137,\n",
       "        64, 193, 188, 162,  51, 272, 258, 252, 269, 198, 190, 265,  57,\n",
       "       125, 120, 102, 147, 139,  85, 280, 114, 270, 235,  87, 165, 133,\n",
       "        81, 134, 144, 242, 189, 234, 212, 149,  14, 268, 219, 222,   7,\n",
       "        48, 202, 197,  91, 245,  24, 256,  96, 121, 211, 254, 204, 113,\n",
       "       191,  82,  83,  18, 278, 229, 106, 227, 122, 196, 283,  12, 115,\n",
       "       237, 201, 172,  29, 161,   6,  38, 232, 217, 238,  71,  60, 168,\n",
       "       284, 148, 179, 250, 107, 224,  23, 112,  98,  43,  27,  74, 274,\n",
       "        22, 257, 267, 266,  59, 233,  73, 108,  72,  55, 127, 281,  92,\n",
       "       251,   4, 153,  42,  32, 279,  31,  46, 213, 177, 117,  26], dtype=int64)"
      ]
     },
     "execution_count": 156,
     "metadata": {},
     "output_type": "execute_result"
    }
   ],
   "source": [
    "np.argsort(pred3) + 1"
   ]
  },
  {
   "cell_type": "code",
   "execution_count": 159,
   "metadata": {},
   "outputs": [
    {
     "data": {
      "text/plain": [
       "array([ 19, 118, 132, 176, 178, 199,  77, 187, 154, 276,  47, 175, 160,\n",
       "       255, 210, 136, 207, 241,  49,   8, 129, 135, 158,  65, 101, 230,\n",
       "       119, 208, 215, 244,  79, 145, 159, 240, 171,  10, 214, 228, 173,\n",
       "         5, 185, 157, 126,  50,  15, 156, 123, 167,  61,  76, 181,  62,\n",
       "       260, 140,  28, 141, 226, 262, 194, 282, 225, 231,  80,  45,  68,\n",
       "         9,  40,  78, 220, 205,  52,  66,  88, 163,  69,  84, 285, 271,\n",
       "        70, 209, 195,  44, 109, 170, 103,   1,  36, 223, 203, 146,  11,\n",
       "       130,   2,  17,  37, 192, 169, 124, 263, 128,  34, 206, 151,  86,\n",
       "        67, 164,  41, 248, 243, 152, 166, 150,  94, 105, 110, 183, 200,\n",
       "         3,  13, 100,  95,  90, 277, 184, 259,  54,  39, 186, 174, 221,\n",
       "       111, 182, 143, 261,  89, 247,  35, 155,  93, 104, 216, 239,  63,\n",
       "       138, 102,  99, 235, 236, 180, 162,  16, 116, 131, 265,  14,  58,\n",
       "       275,  97,  51,  75, 246,  30, 273,  25, 147,  56, 253,  85, 218,\n",
       "       137, 188, 272,  20,  57,  33, 249,  53, 270, 142, 139, 222, 258,\n",
       "       193, 133, 125, 252, 165, 264, 280,  48,  87,  21, 256,  64, 120,\n",
       "       134, 114, 144, 268,   7, 113, 149, 189,  81, 190, 269, 197, 254,\n",
       "       191, 232, 242, 212, 211,  91, 229, 219, 202, 234,  24, 121, 278,\n",
       "        82, 196, 198, 245, 224,  38, 283, 168,  96,   6, 172,  83, 237,\n",
       "       115, 204,  71, 122,  18,  12, 227, 148,  23,  29, 106,  98,  73,\n",
       "       217,  74,   4,  60, 201, 161,  27, 267,  59, 250,  22, 284, 274,\n",
       "       281,  92, 108, 179, 266, 233, 251, 238,  72, 257,  55, 112,  43,\n",
       "       127, 153, 107,  31, 279, 177, 213,  42,  32,  46,  26, 117], dtype=int64)"
      ]
     },
     "execution_count": 159,
     "metadata": {},
     "output_type": "execute_result"
    }
   ],
   "source": [
    "np.argsort(pred1) +1"
   ]
  },
  {
   "cell_type": "code",
   "execution_count": 160,
   "metadata": {},
   "outputs": [
    {
     "name": "stdout",
     "output_type": "stream",
     "text": [
      "Saquon Barkley\n",
      "B.J. Hill\n",
      "Lamar Jackson\n",
      "Kolton Miller\n",
      "D.J. Moore\n",
      "Harrison Phillips\n",
      "Tremaine Edmunds\n",
      "Joseph Noteboom\n",
      "Harold Landry\n",
      "Eddy Wilson\n",
      "D.J. Chark\n",
      "Anthony Miller\n",
      "Chase Litton\n",
      "Vita Vea\n",
      "Justin Reid\n",
      "Malik Jefferson\n",
      "Frank Ragnow\n",
      "Josh Sweat\n",
      "Bradley Chubb\n",
      "Josh Allen\n",
      "J.C. Jackson\n",
      "Derwin James\n",
      "Rick Leonard\n",
      "Sam Darnold\n",
      "Colby Gossett\n",
      "Braden Smith\n",
      "Holton Hill\n",
      "Martinas Rankin\n",
      "Josh Rosen\n",
      "Wyatt Teller\n",
      "Deshon Elliott\n",
      "Peter Kalambayi\n",
      "Tyquan Lewis\n",
      "Courtland Sutton\n",
      "Tarvarus McFadden\n",
      "Mark Andrews\n",
      "Korey Robertson\n",
      "Nic Shimonek\n",
      "Quenton Meeks\n",
      "Jaire Alexander\n",
      "Derrick Nnadi\n",
      "Tanner Lee\n",
      "Godwin Igwebuike\n",
      "Nick Chubb\n",
      "Anthony Averett\n",
      "Allen Lazard\n",
      "Sam Hubbard\n",
      "Baker Mayfield\n",
      "Tyrell Crosby\n",
      "Terrell Edmunds\n",
      "Ryan Nall\n",
      "Dane Cruikshank\n",
      "Denzel Ward\n",
      "Jamarco Jones\n",
      "Quin Blanding\n",
      "Justin Jones\n",
      "Tim Settle\n",
      "James Washington\n",
      "Daron Payne\n",
      "Isaiah Wynn\n",
      "Deadrin Senat\n",
      "Roquan Smith\n",
      "Leighton Vander esch\n",
      "Andre Chachere\n",
      "Carlton Davis\n",
      "Marcus Allen\n",
      "Antonio Callaway\n",
      "Duke Ejiofor\n",
      "Tegray Scales\n",
      "Scott Quessenberry\n",
      "Will Clapp\n",
      "Marcus Davenport\n",
      "Minkah Fitzpatrick\n",
      "Avonte Maddox\n",
      "Duke Dawson\n",
      "Luke Falk\n",
      "Trevon Young\n",
      "Jojo Wicker\n",
      "Dee Delaney\n",
      "D.J. Reed\n",
      "Rashaad Penny\n",
      "Lorenzo Carter\n",
      "Marcell Harris\n",
      "Kc McDermott\n",
      "Rasheem Green\n",
      "Dante Pettis \n",
      "Oren Burks\n",
      "Jaleel Scott\n",
      "Byron Pringle\n",
      "Joshua Kalu\n",
      "Troy Apke\n",
      "Josh Jackson\n",
      "Kemoko Turay \n",
      "Jerome Baker\n",
      "Deontay Burnett\n",
      "Ogbonnia Okoronkwo\n",
      "Mike McCray\n",
      "Mike Hughes\n",
      "Armani Watts\n",
      "Donte Jackson\n",
      "Equanimeous St. brown\n",
      "Trey Quinn\n",
      "Christian Kirk\n",
      "Riley Ferguson\n",
      "Joseph Davidson\n",
      "Cole Madison\n",
      "Dylan Cantrell\n",
      "Matthew Thomas\n",
      "Rod Taylor\n",
      "Micah Kiser\n",
      "Hercules Mata'afa\n",
      "Jamarcus King\n",
      "Joshua Frazier\n",
      "Derrius Guice\n",
      "Ronnie Harrison\n",
      "Quenton Nelson\n",
      "Skyler Phillips\n",
      "Josh Adams\n",
      "Marcell Ateman\n",
      "Mike Gesicki\n",
      "Royce Freeman\n",
      "Quinton Flowers\n",
      "Javon Wims\n",
      "Parry Nickerson\n",
      "Mark Walton\n",
      "Mason Cole\n",
      "Deon Cain\n",
      "Kendrick Norton\n",
      "Sony Michel\n",
      "Bo Scarbrough\n",
      "Marquis Haynes\n",
      "Nick Nelson\n",
      "Sam Jones\n",
      "Fred Warner\n",
      "Dimitri Flowers\n",
      "Jordan Thomas\n",
      "Taven Bryan\n",
      "Jordan Lasley\n",
      "Jarvion Franklin\n",
      "Shaquem Griffin\n",
      "Mason Rudolph\n",
      "Chandon Sullivan\n",
      "Trevor Daniel\n",
      "Kerryon Johnson\n",
      "Davon Grayson\n",
      "Rashaan Gaulden\n",
      "Taylor Stallworth\n",
      "M.J. Stewart\n",
      "Skai Moore\n",
      "Lowell Lotulelei\n",
      "Genard Avery\n",
      "Will Hernandez\n",
      "Justin Jackson\n",
      "Toby Weathersby\n",
      "John Atkins\n",
      "Keke Coutee\n",
      "Cedrick Wilson\n",
      "Michael Gallup\n",
      "Jack Cichy\n",
      "Garret Dooley\n",
      "Ian Thomas\n",
      "Andrew Brown\n",
      "Connor Williams\n",
      "Kurt Benkert\n",
      "John Kelly\n",
      "Tyler Conklin\n",
      "Salesi Uhatafe\n",
      "Rashard Fant\n",
      "Jaylen Samuels\n",
      "Josey Jewell\n",
      "Uchenna Nwosu\n",
      "Jordan Wilkins\n",
      "J.T. Barrett\n",
      "Austin Corbett\n",
      "Tony Brown\n",
      "Trenton Thompson\n",
      "Simmie Cobbs\n",
      "Jordan Whitehead\n",
      "Ronald Jones\n",
      "Chris Jones\n",
      "Dalton Schultz\n",
      "Levi Wallace\n",
      "Isaiah Oliver\n",
      "Leon Jacobs\n",
      "Hayden Hurst\n",
      "Shane Tripucka\n",
      "K.J. Malone\n",
      "Jester Weah\n",
      "Logan Woodside\n",
      "Geron Christian\n",
      "Kylie Fitts\n",
      "Jessie Bates\n",
      "Azeem Victor\n",
      "James Daniels\n",
      "Nyheim Hines\n",
      "Natrell Jamerson\n",
      "Quadree Henderson\n",
      "Jaryd Jones-Smith\n",
      "Sean Welsh\n",
      "Brian Allen\n",
      "James Hearns\n",
      "Arden Key\n",
      "Dorian O'daniel\n",
      "Danny Etling\n",
      "Brian O'neill\n",
      "Kyzir White\n",
      "Cam Phillips\n",
      "Marquez Valdes-Scantling\n",
      "Chukwuma Okorafor\n",
      "Van Smith\n",
      "Auden Tate\n",
      "Calvin Ridley\n",
      "Will Richardson\n",
      "Tre Flowers\n",
      "Andre Smith\n",
      "Dominick Sanders\n",
      "Billy Price\n",
      "Breeland Speaks\n",
      "Davin Bellamy\n",
      "Jeff Holland\n",
      "Anthony Winbush\n",
      "Rashaan Evans\n",
      "Kamryn Pettway\n",
      "Darius Phillips\n",
      "Chad Thomas\n",
      "Jk Scott\n",
      "Jason Cabinda\n",
      "Isaac Yiadom\n",
      "Ray-ray McCloud\n",
      "Troy Fumagalli\n",
      "Austin Allen\n",
      "Mike McGlinchey\n",
      "Brandon Facyson\n",
      "Kentavius Street\n",
      "Zaycoven Henderson\n",
      "Jacob Pugh\n",
      "Jamil Demby\n",
      "Jalyn Holmes\n",
      "Kalen Ballage\n",
      "Ade Aruna\n",
      "Coleman Shelton\n",
      "Kameron Kelly\n",
      "Nick Bawden\n",
      "David Bright\n",
      "Grant Haley\n",
      "Nick Gates\n",
      "Michael Dickson\n",
      "Christian Sam\n",
      "Will Dissly\n",
      "Jordan Akins\n",
      "Justin Crawford\n",
      "Eddy Pineiro\n",
      "James Looney\n",
      "Keishawn Bierria\n",
      "David Wells\n",
      "Chris Covington\n",
      "Brett Toth\n",
      "Marcus Baugh\n",
      "Kenny Young\n",
      "Darrel Williams\n",
      "Chris Worley\n",
      "Robert Foster\n",
      "Shaun dion Hamilton\n",
      "Kamrin Moore\n",
      "Damon Webb\n",
      "Durham Smythe\n",
      "Johnny Townsend\n",
      "Greg Stroman\n",
      "Matt Dickerson\n",
      "Akrum Wadley\n",
      "Lavon Coleman\n",
      "Taylor Hearn\n",
      "Daniel Carlson\n",
      "Ryan Izzo\n",
      "Chris Lacy\n",
      "Daesean Hamilton\n",
      "Drew Brown\n",
      "Ryan Winslow\n",
      "Steven Mitchell\n",
      "Stephen Roberts\n",
      "Tanner Carew\n",
      "Orlando Brown\n",
      "Sean Chandler\n",
      "Braxton Berrios\n",
      "Kyle Hicks\n"
     ]
    }
   ],
   "source": [
    "for row in np.argsort(pred1):\n",
    "    print(year.at[row, \"Name\"])"
   ]
  },
  {
   "cell_type": "code",
   "execution_count": null,
   "metadata": {},
   "outputs": [],
   "source": []
  }
 ],
 "metadata": {
  "kernelspec": {
   "display_name": "Python 3",
   "language": "python",
   "name": "python3"
  },
  "language_info": {
   "codemirror_mode": {
    "name": "ipython",
    "version": 3
   },
   "file_extension": ".py",
   "mimetype": "text/x-python",
   "name": "python",
   "nbconvert_exporter": "python",
   "pygments_lexer": "ipython3",
   "version": "3.6.1"
  }
 },
 "nbformat": 4,
 "nbformat_minor": 2
}
